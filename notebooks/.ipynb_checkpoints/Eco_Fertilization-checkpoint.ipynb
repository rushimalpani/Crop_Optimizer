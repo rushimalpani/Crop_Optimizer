{
 "cells": [
  {
   "cell_type": "markdown",
   "metadata": {},
   "source": [
    "# <font color=\"hotpink\">Eco_Fertilization</font>"
   ]
  },
  {
   "cell_type": "markdown",
   "metadata": {},
   "source": [
    "## BestTimeToFertilize Module\n",
    "* Using <a href=\"https://www.weatherbit.io/api/weather-forecast-16-day\">Weatherbit | 16 Day Forecast</a>\n",
    "* Acessing 7 days of forecast data in json format.\n",
    "* Data requests\n",
    "    1. temperature (Celsius)\n",
    "    2. humidity (relative humidity in %)\n",
    "    3. rainfall (mm)\n",
    "* API call format: ```https://api.weatherbit.io/v2.0/forecast/daily?city=Raleigh,NC&key=API_KEY&days=5```\n",
    "* Effective Rainfall: https://www.fao.org/3/S2022E/s2022e03.htm\n",
    "* Rates of rainfall:\n",
    "    * Drizzle, very small droplets.\n",
    "    * Slight (fine) drizzle: Detectable as droplets only on the face, car windscreens and windows.\n",
    "    * Moderate drizzle: Windows and other surfaces stream with water.\n",
    "    * Heavy (thick) drizzle: Impairs visibility and is measurable in a raingauge, rates up to 1 mm per hour.\n",
    "    * Rain, drops of appreciable size and may be described as small to large drops. It is possible to have rain drops within drizzle!\n",
    "    * Slight rain: Less than 0.5 mm per hour.\n",
    "    * Moderate rain: Greater than 0.5 mm per hour, but less than 4.0 mm per hour.\n",
    "    * Heavy rain: Greater than 4 mm per hour, but less than 8 mm per hour.\n",
    "    * Very heavy rain: Greater than 8 mm per hour.\n",
    "    * Slight shower: Less than 2 mm per hour.\n",
    "    * Moderate shower: Greater than 2 mm, but less than 10 mm per hour.\n",
    "    * Heavy shower: Greater than 10 mm per hour, but less than 50 mm per hour.\n",
    "    * Violent shower: Greater than 50 mm per hour.\n",
    "* Weather API Codes/Icons: https://www.weatherbit.io/api/codes \n"
   ]
  },
  {
   "cell_type": "markdown",
   "metadata": {},
   "source": [
    "### Fertilization \n",
    "* Heavy and prolonged rain can wash away recently applied fertilizer. It is also important that the water within the first 24 hours (upto 48 hours) be evenly distributed.\n",
    "* Rainfall of greater than ½ inch (12.7 mm) puts your fertilizer at risk. \n",
    "* Urea converts to ammonium ion within 5 to six days by urease enzyme and it takes another 5 to. Six days to convert it in nitrate by soil bacteria . After this plant roots can absorb it properly but all these are also affected by temp, moisture and soil texture."
   ]
  },
  {
   "cell_type": "markdown",
   "metadata": {},
   "source": [
    "### Version Info\n",
    "* Python version: 3.8.10\n",
    "* requests module version: 2.27.1\n",
    "* json module version: 2.0.9"
   ]
  },
  {
   "cell_type": "code",
   "execution_count": 1,
   "metadata": {},
   "outputs": [],
   "source": [
    "import requests as rq\n",
    "import json as js\n",
    "from time import sleep\n",
    "\n",
    "\n",
    "# !python3 --version\n",
    "# print(\"requests\", rq.__version__)\n",
    "# print(\"json\", js.__version__)"
   ]
  },
  {
   "cell_type": "code",
   "execution_count": 2,
   "metadata": {},
   "outputs": [],
   "source": [
    "class BestTimeToFertilize:\n",
    "    __BASE_URL = \"https://api.weatherbit.io/v2.0/forecast/daily?\"\n",
    "    __API_KEY = \"063a0c58f49b49f2bf09f2d22bdbcb7e\"\n",
    "    \n",
    "    \n",
    "    def __init__(self, city_name = 'Pune', state_name = 'Maharashtra', days = 7):\n",
    "        self.city_name = '+'.join(city_name.lower().strip().split())\n",
    "        self.state_name = '+'.join(state_name.lower().strip().split())\n",
    "        self.country_name = 'IN'\n",
    "        self.days = days\n",
    "        self.response = None\n",
    "        self.response_code = None\n",
    "        self.weather_data = list()\n",
    "        \n",
    "    def api_caller(self):\n",
    "        try:\n",
    "            complete_url = \"{0}city={1}&state={2}&country={3}&key={4}&days={5}\".format(self.__BASE_URL, self.city_name, self.state_name, self.country_name, self.__API_KEY, self.days)\n",
    "            print(complete_url)\n",
    "            #while self.response == None:\n",
    "            self.response = rq.get(complete_url)\n",
    "            sleep(5)\n",
    "            self.response_code = self.response.status_code\n",
    "            return self.response_code\n",
    "        except Exception as msg:\n",
    "            print(\"api_caller():\", msg)\n",
    "            return -1\n",
    "        \n",
    "    \n",
    "    def is_api_call_success(self):\n",
    "        if self.response_code == 200:\n",
    "            return True\n",
    "        elif self.response_code == 204:\n",
    "            print('Content Not available, error code 204')\n",
    "        return False\n",
    "    \n",
    "\n",
    "    def json_file_bulider(self):\n",
    "        try:\n",
    "            json_obj = self.response.json()\n",
    "            with open('weather_data.json', 'w') as file:\n",
    "                js.dump(json_obj, file, indent = 1, sort_keys = True)\n",
    "            print(\"weather_data.json file build successfully\")\n",
    "        except Exception as msg:\n",
    "            print(\"json_bulider():\", msg)\n",
    "            \n",
    "    \n",
    "    def best_time_fertilize(self):\n",
    "        json_obj = self.response.json()\n",
    "        \n",
    "        print(\"City:\", json_obj['city_name'], \"\\n\")\n",
    "\n",
    "        prolonged_precip = 0\n",
    "        prolonged_prob = 0\n",
    "        heavy_rain_2d = False\n",
    "        heavy_rain_chance_2d = 0\n",
    "        precip_2d = 0\n",
    "        precip_chance_2d = 0\n",
    "        \n",
    "        for i in range(self.days):\n",
    "            date = json_obj['data'][i]['datetime']\n",
    "            temp = json_obj['data'][i]['temp']\n",
    "            rh = json_obj['data'][i]['rh']\n",
    "            precip = json_obj['data'][i]['precip']\n",
    "            prob = json_obj['data'][i]['pop']\n",
    "            w_code = json_obj['data'][i]['weather']['code']\n",
    "            w_desc = json_obj['data'][i]['weather']['description']\n",
    "            i_code = json_obj['data'][i]['weather']['icon']\n",
    "            prolonged_precip += precip\n",
    "            prolonged_prob += prob\n",
    "\n",
    "            count_2d = 0\n",
    "            if i < 2:\n",
    "                precip_2d += precip\n",
    "                precip_chance_2d += prob\n",
    "                if w_code in [202, 233, 502, 521, 522]:\n",
    "                    heavy_rain_2d = True\n",
    "                    heavy_rain_chance_2d += prob\n",
    "                    count_2d += 1\n",
    "                    heavy_rain_chance_2d //= count_2d\n",
    "            \n",
    "            di = {\n",
    "                  \"Date\": str(date), \n",
    "                  \"Temperature\": str(temp), \n",
    "                  \"Relative Humidity\": str(rh), \n",
    "                  \"Rainfall\": str(precip), \n",
    "                  \"Probability of Precipitation\": str(prob),\n",
    "                  \"Weather code\": str(w_code),\n",
    "                  \"Weather Description\": str(w_desc),\n",
    "                  \"Icon code\": str(i_code)\n",
    "                 }\n",
    "            self.weather_data.append(di)\n",
    "            \n",
    "            print(\"Date:\", date)\n",
    "            print(\"Temperature:\", temp)\n",
    "            print(\"Relative Humidity:\", rh)\n",
    "            print(\"Rainfall:\", precip)\n",
    "            print(\"Probability of Precipitation:\", prob)\n",
    "            print(\"Weather code:\", w_code, \"->\", w_desc)\n",
    "            print()\n",
    "\n",
    "        prolonged_prob //= self.days\n",
    "        precip_chance_2d //= 2\n",
    "\n",
    "        print(\"-\"*80)\n",
    "        print(\"The amount of rain for 2 days, counting today:\", precip_2d)\n",
    "        print(\"Chances of rain for 2 days, counting today:\", precip_chance_2d)\n",
    "        print()\n",
    "\n",
    "        if heavy_rain_2d:\n",
    "            print(\"*\"*21, \"Warning !!!\", \"*\"*21)\n",
    "            print(\"Heavy Rain Chances:\", heavy_rain_chance_2d)\n",
    "            print(\"Heavy Rainfall puts your fertilizer at risk.\")\n",
    "            print(\"*\"*21, \"Warning !!!\", \"*\"*21)\n",
    "\n",
    "        print(\"Prolonged Precipitation:\", prolonged_precip)\n",
    "        print(\"Prolonged Precipitation Probability:\", prolonged_prob)\n",
    "        print()\n",
    "\n",
    "        if prolonged_precip > 12.7 and prolonged_prob >= 50:\n",
    "            print(\"*\"*21, \"Warning !!!\", \"*\"*21)\n",
    "            print(\"Prolonged Rainfall of greater than 12.7 mm puts your fertilizer at risk.\")\n",
    "            print(\"*\"*21, \"Warning !!!\", \"*\"*21)"
   ]
  },
  {
   "cell_type": "code",
   "execution_count": 3,
   "metadata": {},
   "outputs": [
    {
     "name": "stdout",
     "output_type": "stream",
     "text": [
      "https://api.weatherbit.io/v2.0/forecast/daily?city=pune&state=maharashtra&country=IN&key=063a0c58f49b49f2bf09f2d22bdbcb7e&days=7\n",
      "403\n"
     ]
    }
   ],
   "source": [
    "if __name__ == '__main__':\n",
    "    obj = BestTimeToFertilize('Pune', 'Maharashtra')\n",
    "    print(obj.api_caller())\n",
    "    if obj.is_api_call_success():\n",
    "        obj.best_time_fertilize()\n",
    "        obj.json_file_bulider()\n",
    "#         print(obj.weather_data)"
   ]
  },
  {
   "cell_type": "markdown",
   "metadata": {},
   "source": [
    "## Predictive Module"
   ]
  },
  {
   "cell_type": "markdown",
   "metadata": {},
   "source": [
    "### Version Info\n",
    "* numpy 1.22.3\n",
    "* pandas 1.3.3"
   ]
  },
  {
   "cell_type": "code",
   "execution_count": 4,
   "metadata": {},
   "outputs": [],
   "source": [
    "import numpy as np # linear algebra\n",
    "import pandas as pd # data processing, CSV file I/O (e.g. pd.read_csv)\n",
    "import matplotlib.pyplot as plt # data visualization\n",
    "import warnings\n",
    "\n",
    "# enable the inline plotting, where the plots/graphs will be displayed just below the \n",
    "# cell where your plotting commands are written\n",
    "%matplotlib inline\n",
    "\n",
    "warnings.filterwarnings('ignore')\n",
    "\n",
    "# print(\"numpy\", np.__version__)\n",
    "# print(\"pandas\", pd.__version__)"
   ]
  },
  {
   "cell_type": "code",
   "execution_count": 5,
   "metadata": {},
   "outputs": [],
   "source": [
    "data = 'Nutrient_recommendation.csv'\n",
    "df = pd.read_csv(data, header=None)"
   ]
  },
  {
   "cell_type": "code",
   "execution_count": 6,
   "metadata": {},
   "outputs": [
    {
     "data": {
      "text/plain": [
       "(2201, 7)"
      ]
     },
     "execution_count": 6,
     "metadata": {},
     "output_type": "execute_result"
    }
   ],
   "source": [
    "# view dimensions of dataset\n",
    "\n",
    "df.shape"
   ]
  },
  {
   "cell_type": "code",
   "execution_count": 7,
   "metadata": {},
   "outputs": [
    {
     "data": {
      "text/html": [
       "<div>\n",
       "<style scoped>\n",
       "    .dataframe tbody tr th:only-of-type {\n",
       "        vertical-align: middle;\n",
       "    }\n",
       "\n",
       "    .dataframe tbody tr th {\n",
       "        vertical-align: top;\n",
       "    }\n",
       "\n",
       "    .dataframe thead th {\n",
       "        text-align: right;\n",
       "    }\n",
       "</style>\n",
       "<table border=\"1\" class=\"dataframe\">\n",
       "  <thead>\n",
       "    <tr style=\"text-align: right;\">\n",
       "      <th></th>\n",
       "      <th>0</th>\n",
       "      <th>1</th>\n",
       "      <th>2</th>\n",
       "      <th>3</th>\n",
       "      <th>4</th>\n",
       "      <th>5</th>\n",
       "      <th>6</th>\n",
       "    </tr>\n",
       "  </thead>\n",
       "  <tbody>\n",
       "    <tr>\n",
       "      <th>0</th>\n",
       "      <td>Crop</td>\n",
       "      <td>Temperature</td>\n",
       "      <td>Humidity</td>\n",
       "      <td>Rainfall</td>\n",
       "      <td>Label_N</td>\n",
       "      <td>Label_P</td>\n",
       "      <td>Label_K</td>\n",
       "    </tr>\n",
       "    <tr>\n",
       "      <th>1</th>\n",
       "      <td>rice</td>\n",
       "      <td>20.87974371</td>\n",
       "      <td>82.00274423</td>\n",
       "      <td>202.9355362</td>\n",
       "      <td>90</td>\n",
       "      <td>42</td>\n",
       "      <td>43</td>\n",
       "    </tr>\n",
       "    <tr>\n",
       "      <th>2</th>\n",
       "      <td>rice</td>\n",
       "      <td>21.77046169</td>\n",
       "      <td>80.31964408</td>\n",
       "      <td>226.6555374</td>\n",
       "      <td>85</td>\n",
       "      <td>58</td>\n",
       "      <td>41</td>\n",
       "    </tr>\n",
       "    <tr>\n",
       "      <th>3</th>\n",
       "      <td>rice</td>\n",
       "      <td>23.00445915</td>\n",
       "      <td>82.3207629</td>\n",
       "      <td>263.9642476</td>\n",
       "      <td>60</td>\n",
       "      <td>55</td>\n",
       "      <td>44</td>\n",
       "    </tr>\n",
       "    <tr>\n",
       "      <th>4</th>\n",
       "      <td>rice</td>\n",
       "      <td>26.49109635</td>\n",
       "      <td>80.15836264</td>\n",
       "      <td>242.8640342</td>\n",
       "      <td>74</td>\n",
       "      <td>35</td>\n",
       "      <td>40</td>\n",
       "    </tr>\n",
       "  </tbody>\n",
       "</table>\n",
       "</div>"
      ],
      "text/plain": [
       "      0            1            2            3        4        5        6\n",
       "0  Crop  Temperature     Humidity     Rainfall  Label_N  Label_P  Label_K\n",
       "1  rice  20.87974371  82.00274423  202.9355362       90       42       43\n",
       "2  rice  21.77046169  80.31964408  226.6555374       85       58       41\n",
       "3  rice  23.00445915   82.3207629  263.9642476       60       55       44\n",
       "4  rice  26.49109635  80.15836264  242.8640342       74       35       40"
      ]
     },
     "execution_count": 7,
     "metadata": {},
     "output_type": "execute_result"
    }
   ],
   "source": [
    "# preview the dataset\n",
    "\n",
    "df.head()"
   ]
  },
  {
   "cell_type": "code",
   "execution_count": 8,
   "metadata": {},
   "outputs": [
    {
     "data": {
      "text/html": [
       "<div>\n",
       "<style scoped>\n",
       "    .dataframe tbody tr th:only-of-type {\n",
       "        vertical-align: middle;\n",
       "    }\n",
       "\n",
       "    .dataframe tbody tr th {\n",
       "        vertical-align: top;\n",
       "    }\n",
       "\n",
       "    .dataframe thead th {\n",
       "        text-align: right;\n",
       "    }\n",
       "</style>\n",
       "<table border=\"1\" class=\"dataframe\">\n",
       "  <thead>\n",
       "    <tr style=\"text-align: right;\">\n",
       "      <th></th>\n",
       "      <th>Crop</th>\n",
       "      <th>Temperature</th>\n",
       "      <th>Humidity</th>\n",
       "      <th>Rainfall</th>\n",
       "      <th>Label_N</th>\n",
       "      <th>Label_P</th>\n",
       "      <th>Label_K</th>\n",
       "    </tr>\n",
       "  </thead>\n",
       "  <tbody>\n",
       "    <tr>\n",
       "      <th>1</th>\n",
       "      <td>rice</td>\n",
       "      <td>20.87974371</td>\n",
       "      <td>82.00274423</td>\n",
       "      <td>202.9355362</td>\n",
       "      <td>90</td>\n",
       "      <td>42</td>\n",
       "      <td>43</td>\n",
       "    </tr>\n",
       "    <tr>\n",
       "      <th>2</th>\n",
       "      <td>rice</td>\n",
       "      <td>21.77046169</td>\n",
       "      <td>80.31964408</td>\n",
       "      <td>226.6555374</td>\n",
       "      <td>85</td>\n",
       "      <td>58</td>\n",
       "      <td>41</td>\n",
       "    </tr>\n",
       "    <tr>\n",
       "      <th>3</th>\n",
       "      <td>rice</td>\n",
       "      <td>23.00445915</td>\n",
       "      <td>82.3207629</td>\n",
       "      <td>263.9642476</td>\n",
       "      <td>60</td>\n",
       "      <td>55</td>\n",
       "      <td>44</td>\n",
       "    </tr>\n",
       "    <tr>\n",
       "      <th>4</th>\n",
       "      <td>rice</td>\n",
       "      <td>26.49109635</td>\n",
       "      <td>80.15836264</td>\n",
       "      <td>242.8640342</td>\n",
       "      <td>74</td>\n",
       "      <td>35</td>\n",
       "      <td>40</td>\n",
       "    </tr>\n",
       "    <tr>\n",
       "      <th>5</th>\n",
       "      <td>rice</td>\n",
       "      <td>20.13017482</td>\n",
       "      <td>81.60487287</td>\n",
       "      <td>262.7173405</td>\n",
       "      <td>78</td>\n",
       "      <td>42</td>\n",
       "      <td>42</td>\n",
       "    </tr>\n",
       "  </tbody>\n",
       "</table>\n",
       "</div>"
      ],
      "text/plain": [
       "   Crop  Temperature     Humidity     Rainfall Label_N Label_P Label_K\n",
       "1  rice  20.87974371  82.00274423  202.9355362      90      42      43\n",
       "2  rice  21.77046169  80.31964408  226.6555374      85      58      41\n",
       "3  rice  23.00445915   82.3207629  263.9642476      60      55      44\n",
       "4  rice  26.49109635  80.15836264  242.8640342      74      35      40\n",
       "5  rice  20.13017482  81.60487287  262.7173405      78      42      42"
      ]
     },
     "execution_count": 8,
     "metadata": {},
     "output_type": "execute_result"
    }
   ],
   "source": [
    "# Rename column names\n",
    "\n",
    "df.columns = ['Crop', 'Temperature', 'Humidity', 'Rainfall', 'Label_N', 'Label_P', 'Label_K']\n",
    "df.drop(df.index[:1], inplace=True)\n",
    "df.head()"
   ]
  },
  {
   "cell_type": "code",
   "execution_count": 9,
   "metadata": {},
   "outputs": [
    {
     "name": "stdout",
     "output_type": "stream",
     "text": [
      "<class 'pandas.core.frame.DataFrame'>\n",
      "RangeIndex: 2200 entries, 1 to 2200\n",
      "Data columns (total 7 columns):\n",
      " #   Column       Non-Null Count  Dtype \n",
      "---  ------       --------------  ----- \n",
      " 0   Crop         2200 non-null   object\n",
      " 1   Temperature  2200 non-null   object\n",
      " 2   Humidity     2200 non-null   object\n",
      " 3   Rainfall     2200 non-null   object\n",
      " 4   Label_N      2200 non-null   object\n",
      " 5   Label_P      2200 non-null   object\n",
      " 6   Label_K      2200 non-null   object\n",
      "dtypes: object(7)\n",
      "memory usage: 120.4+ KB\n"
     ]
    }
   ],
   "source": [
    "# View summary of dataset\n",
    "\n",
    "df.info()"
   ]
  },
  {
   "cell_type": "code",
   "execution_count": 10,
   "metadata": {},
   "outputs": [
    {
     "data": {
      "text/plain": [
       "Crop           0\n",
       "Temperature    0\n",
       "Humidity       0\n",
       "Rainfall       0\n",
       "Label_N        0\n",
       "Label_P        0\n",
       "Label_K        0\n",
       "dtype: int64"
      ]
     },
     "execution_count": 10,
     "metadata": {},
     "output_type": "execute_result"
    }
   ],
   "source": [
    "# check missing values in variables\n",
    "\n",
    "df.isnull().sum()"
   ]
  },
  {
   "cell_type": "code",
   "execution_count": 11,
   "metadata": {},
   "outputs": [],
   "source": [
    "# Declare feature vector and target variable\n",
    "X = df.drop(['Label_N', 'Label_P', 'Label_K'], axis=1)\n",
    "\n",
    "y1 = df['Label_N']\n",
    "y2 = df['Label_P']\n",
    "y3 = df['Label_K']"
   ]
  },
  {
   "cell_type": "code",
   "execution_count": 12,
   "metadata": {},
   "outputs": [],
   "source": [
    "# split data into training and testing sets\n",
    "from sklearn.model_selection import train_test_split\n",
    "\n",
    "X_train, X_test, y_train, y_test = train_test_split(X, y1, test_size = 0.20, random_state = 42)"
   ]
  },
  {
   "cell_type": "code",
   "execution_count": 13,
   "metadata": {},
   "outputs": [
    {
     "data": {
      "text/plain": [
       "((1760, 4), (440, 4))"
      ]
     },
     "execution_count": 13,
     "metadata": {},
     "output_type": "execute_result"
    }
   ],
   "source": [
    "# check the shape of X_train and X_test\n",
    "\n",
    "X_train.shape, X_test.shape"
   ]
  },
  {
   "cell_type": "code",
   "execution_count": 14,
   "metadata": {},
   "outputs": [
    {
     "data": {
      "text/html": [
       "<div>\n",
       "<style scoped>\n",
       "    .dataframe tbody tr th:only-of-type {\n",
       "        vertical-align: middle;\n",
       "    }\n",
       "\n",
       "    .dataframe tbody tr th {\n",
       "        vertical-align: top;\n",
       "    }\n",
       "\n",
       "    .dataframe thead th {\n",
       "        text-align: right;\n",
       "    }\n",
       "</style>\n",
       "<table border=\"1\" class=\"dataframe\">\n",
       "  <thead>\n",
       "    <tr style=\"text-align: right;\">\n",
       "      <th></th>\n",
       "      <th>Crop</th>\n",
       "      <th>Temperature</th>\n",
       "      <th>Humidity</th>\n",
       "      <th>Rainfall</th>\n",
       "    </tr>\n",
       "  </thead>\n",
       "  <tbody>\n",
       "    <tr>\n",
       "      <th>1657</th>\n",
       "      <td>orange</td>\n",
       "      <td>16.39624284</td>\n",
       "      <td>92.18151927</td>\n",
       "      <td>102.944161</td>\n",
       "    </tr>\n",
       "    <tr>\n",
       "      <th>753</th>\n",
       "      <td>blackgram</td>\n",
       "      <td>27.54384835</td>\n",
       "      <td>69.3478631</td>\n",
       "      <td>69.40878198</td>\n",
       "    </tr>\n",
       "    <tr>\n",
       "      <th>893</th>\n",
       "      <td>lentil</td>\n",
       "      <td>27.52185591</td>\n",
       "      <td>63.13215259</td>\n",
       "      <td>45.20841071</td>\n",
       "    </tr>\n",
       "    <tr>\n",
       "      <th>1042</th>\n",
       "      <td>banana</td>\n",
       "      <td>25.36059237</td>\n",
       "      <td>75.03193255</td>\n",
       "      <td>116.5531455</td>\n",
       "    </tr>\n",
       "    <tr>\n",
       "      <th>1180</th>\n",
       "      <td>mango</td>\n",
       "      <td>35.47478322</td>\n",
       "      <td>47.97230503</td>\n",
       "      <td>97.79072474</td>\n",
       "    </tr>\n",
       "  </tbody>\n",
       "</table>\n",
       "</div>"
      ],
      "text/plain": [
       "           Crop  Temperature     Humidity     Rainfall\n",
       "1657     orange  16.39624284  92.18151927   102.944161\n",
       "753   blackgram  27.54384835   69.3478631  69.40878198\n",
       "893      lentil  27.52185591  63.13215259  45.20841071\n",
       "1042     banana  25.36059237  75.03193255  116.5531455\n",
       "1180      mango  35.47478322  47.97230503  97.79072474"
      ]
     },
     "execution_count": 14,
     "metadata": {},
     "output_type": "execute_result"
    }
   ],
   "source": [
    "X_train.head()"
   ]
  },
  {
   "cell_type": "code",
   "execution_count": 15,
   "metadata": {},
   "outputs": [
    {
     "name": "stdout",
     "output_type": "stream",
     "text": [
      "{'apple': 1, 'banana': 2, 'blackgram': 3, 'chickpea': 4, 'coconut': 5, 'coffee': 6, 'cotton': 7, 'grapes': 8, 'jute': 9, 'kidneybeans': 10, 'lentil': 11, 'maize': 12, 'mango': 13, 'mothbeans': 14, 'mungbean': 15, 'muskmelon': 16, 'orange': 17, 'papaya': 18, 'pigeonpeas': 19, 'pomegranate': 20, 'rice': 21, 'watermelon': 22, 'NA': nan}\n"
     ]
    }
   ],
   "source": [
    "# create mapping of crop(string) to int type\n",
    "mapping = dict()\n",
    "\n",
    "# writing the mapping in a file\n",
    "with open(\"mapped_crops.csv\", \"w\") as fh:\n",
    "    fh.write(\"Crops,Key\\n\")\n",
    "    for i, crop in enumerate(np.unique(df[['Crop']]), 1):\n",
    "        mapping[crop] =  i\n",
    "        fh.write(\"%s,%d\\n\" % (crop, i))\n",
    "    mapping['NA'] = np.nan\n",
    "    fh.write(\"NA,nan\")\n",
    "    \n",
    "print(mapping)"
   ]
  },
  {
   "cell_type": "code",
   "execution_count": 16,
   "metadata": {},
   "outputs": [
    {
     "data": {
      "text/html": [
       "<div>\n",
       "<style scoped>\n",
       "    .dataframe tbody tr th:only-of-type {\n",
       "        vertical-align: middle;\n",
       "    }\n",
       "\n",
       "    .dataframe tbody tr th {\n",
       "        vertical-align: top;\n",
       "    }\n",
       "\n",
       "    .dataframe thead th {\n",
       "        text-align: right;\n",
       "    }\n",
       "</style>\n",
       "<table border=\"1\" class=\"dataframe\">\n",
       "  <thead>\n",
       "    <tr style=\"text-align: right;\">\n",
       "      <th></th>\n",
       "      <th>Crop</th>\n",
       "      <th>Temperature</th>\n",
       "      <th>Humidity</th>\n",
       "      <th>Rainfall</th>\n",
       "    </tr>\n",
       "  </thead>\n",
       "  <tbody>\n",
       "    <tr>\n",
       "      <th>1657</th>\n",
       "      <td>17</td>\n",
       "      <td>16.39624284</td>\n",
       "      <td>92.18151927</td>\n",
       "      <td>102.944161</td>\n",
       "    </tr>\n",
       "    <tr>\n",
       "      <th>753</th>\n",
       "      <td>3</td>\n",
       "      <td>27.54384835</td>\n",
       "      <td>69.3478631</td>\n",
       "      <td>69.40878198</td>\n",
       "    </tr>\n",
       "    <tr>\n",
       "      <th>893</th>\n",
       "      <td>11</td>\n",
       "      <td>27.52185591</td>\n",
       "      <td>63.13215259</td>\n",
       "      <td>45.20841071</td>\n",
       "    </tr>\n",
       "    <tr>\n",
       "      <th>1042</th>\n",
       "      <td>2</td>\n",
       "      <td>25.36059237</td>\n",
       "      <td>75.03193255</td>\n",
       "      <td>116.5531455</td>\n",
       "    </tr>\n",
       "    <tr>\n",
       "      <th>1180</th>\n",
       "      <td>13</td>\n",
       "      <td>35.47478322</td>\n",
       "      <td>47.97230503</td>\n",
       "      <td>97.79072474</td>\n",
       "    </tr>\n",
       "  </tbody>\n",
       "</table>\n",
       "</div>"
      ],
      "text/plain": [
       "      Crop  Temperature     Humidity     Rainfall\n",
       "1657    17  16.39624284  92.18151927   102.944161\n",
       "753      3  27.54384835   69.3478631  69.40878198\n",
       "893     11  27.52185591  63.13215259  45.20841071\n",
       "1042     2  25.36059237  75.03193255  116.5531455\n",
       "1180    13  35.47478322  47.97230503  97.79072474"
      ]
     },
     "execution_count": 16,
     "metadata": {},
     "output_type": "execute_result"
    }
   ],
   "source": [
    "# import category encoders\n",
    "import category_encoders as ce\n",
    "\n",
    "ordinal_cols_mapping = [{\"col\": \"Crop\", \"mapping\": mapping}, ]\n",
    "\n",
    "# encode categorical variables with ordinal encoding\n",
    "encoder = ce.OrdinalEncoder(cols = 'Crop', mapping = ordinal_cols_mapping, return_df = True)\n",
    "\n",
    "X_train = encoder.fit_transform(X_train)\n",
    "X_test = encoder.transform(X_test)\n",
    "X_train.head()"
   ]
  },
  {
   "cell_type": "code",
   "execution_count": 17,
   "metadata": {},
   "outputs": [],
   "source": [
    "from sklearn.ensemble import RandomForestRegressor\n",
    " \n",
    "# n_estimators = The number of trees in the forest.\n",
    "regressor = RandomForestRegressor(n_estimators = 50, random_state = 0)\n",
    " \n",
    "# fit the model\n",
    "regressor.fit(X_train, y_train)\n",
    "\n",
    "# Predict the Test set results\n",
    "y_pred = regressor.predict(X_test)"
   ]
  },
  {
   "cell_type": "markdown",
   "metadata": {},
   "source": [
    "### Calculating the loss after training\n",
    "* Let us now calculate the loss between the actual target values in the testing set and the values predicted by the model with the use of a cost function called the Root Mean Square Error (RMSE).\n",
    "<img src=\"https://miro.medium.com/max/460/0*rJwdJuCjM3fqfCIM.png\">\n",
    "* The RMSE of a model determines the absolute fit of the model to the data. In other words, it indicates how close the actual data points are to the model’s predicted values. A low value of RMSE indicates a better fit and is a good measure for determining the accuracy of the model’s predictions."
   ]
  },
  {
   "cell_type": "code",
   "execution_count": 18,
   "metadata": {
    "scrolled": true
   },
   "outputs": [
    {
     "name": "stdout",
     "output_type": "stream",
     "text": [
      "Mean Absolute Error: 10.544181818181817\n",
      "Mean Squared Error: 161.73470363636363\n",
      "Root Mean Squared Error: 12.717495965651556\n",
      "\n",
      "RMSE:  12.717\n"
     ]
    }
   ],
   "source": [
    "from sklearn import metrics\n",
    "\n",
    "print('Mean Absolute Error:', metrics.mean_absolute_error(y_test, y_pred))\n",
    "print('Mean Squared Error:', metrics.mean_squared_error(y_test, y_pred))\n",
    "print('Root Mean Squared Error:', np.sqrt(metrics.mean_squared_error(y_test, y_pred)))\n",
    "\n",
    "rmse = float(format(np.sqrt(metrics.mean_squared_error(y_test, y_pred)), '.3f'))\n",
    "print(\"\\nRMSE: \", rmse)"
   ]
  },
  {
   "cell_type": "code",
   "execution_count": 19,
   "metadata": {},
   "outputs": [],
   "source": [
    "# If set to -1, all CPUs are used, This parameter is used to specify how many concurrent \n",
    "# processes or threads should be used for routines that are parallelized\n",
    "\n",
    "model = RandomForestRegressor(n_jobs=-1)"
   ]
  },
  {
   "cell_type": "code",
   "execution_count": 20,
   "metadata": {
    "scrolled": true
   },
   "outputs": [
    {
     "data": {
      "text/plain": [
       "[<matplotlib.lines.Line2D at 0x17d8a36f2e0>]"
      ]
     },
     "execution_count": 20,
     "metadata": {},
     "output_type": "execute_result"
    },
    {
     "data": {
      "image/png": "[encoded data removed]",
      "text/plain": [
       "<Figure size 432x288 with 1 Axes>"
      ]
     },
     "metadata": {
      "needs_background": "light"
     },
     "output_type": "display_data"
    }
   ],
   "source": [
    "estimators = np.arange(10, 200, 10)\n",
    "scores = []\n",
    "for n in estimators:\n",
    "    model.set_params(n_estimators=n)\n",
    "    model.fit(X_train, y_train)\n",
    "    scores.append(model.score(X_test, y_test))\n",
    "plt.title(\"Effect of n_estimators\")\n",
    "plt.xlabel(\"n_estimator\")\n",
    "plt.ylabel(\"score\")\n",
    "plt.plot(estimators, scores)"
   ]
  },
  {
   "cell_type": "markdown",
   "metadata": {},
   "source": [
    "### Accuracy\n",
    "* N: 0.871\n",
    "* P: 0.926\n",
    "* K: 0.995"
   ]
  },
  {
   "cell_type": "code",
   "execution_count": 21,
   "metadata": {},
   "outputs": [
    {
     "name": "stdout",
     "output_type": "stream",
     "text": [
      "Model accuracy: 0.871\n"
     ]
    }
   ],
   "source": [
    "scores_arr = [round(sc, 3) for sc in scores]\n",
    "unique, counts = np.unique(scores_arr, return_counts = True)\n",
    "\n",
    "max_count = max(counts)\n",
    "accuracy = -1\n",
    "for uni, count in zip(unique, counts):\n",
    "    # print(uni, count)\n",
    "    if count == max_count:\n",
    "        accuracy = uni\n",
    "\n",
    "print(\"Model accuracy: %.3f\" % (accuracy))"
   ]
  },
  {
   "cell_type": "markdown",
   "metadata": {},
   "source": [
    "# NPKEstimator"
   ]
  },
  {
   "cell_type": "code",
   "execution_count": 22,
   "metadata": {},
   "outputs": [],
   "source": [
    "import warnings\n",
    "import numpy as np \n",
    "import pandas as pd \n",
    "from sklearn import metrics\n",
    "import category_encoders as ce\n",
    "import matplotlib.pyplot as plt \n",
    "from sklearn.model_selection import train_test_split\n",
    "from sklearn.ensemble import RandomForestRegressor\n",
    "\n",
    "warnings.filterwarnings('ignore')"
   ]
  },
  {
   "cell_type": "code",
   "execution_count": 23,
   "metadata": {},
   "outputs": [],
   "source": [
    "class NPKEstimator:\n",
    "    def __init__(self, data = 'Nutrient_recommendation.csv', ):\n",
    "        self.df = pd.read_csv(data, header=None)\n",
    "        self.X_train = None\n",
    "        self.X_test = None\n",
    "        self.y_train = None\n",
    "        self.y_test = None\n",
    "        \n",
    "    \n",
    "    def renameCol(self):\n",
    "        self.df.columns = ['Crop', 'Temperature', 'Humidity', 'Rainfall', 'Label_N', 'Label_P', 'Label_K']\n",
    "        self.df.drop(self.df.index[:1], inplace=True)\n",
    "    \n",
    "    \n",
    "    def cropMapper(self):\n",
    "        # create mapping of crop(string) to int type\n",
    "        mapping = dict()\n",
    "\n",
    "        with open(\"mapped_crops.csv\", \"w\") as fh:\n",
    "            fh.write(\"Crops,Key\\n\")\n",
    "            for i, crop in enumerate(np.unique(self.df[['Crop']]), 1):\n",
    "                mapping[crop] =  i\n",
    "                fh.write(\"%s,%d\\n\" % (crop, i))\n",
    "            mapping['NA'] = np.nan\n",
    "            fh.write(\"NA,nan\")\n",
    "        # print(mapping)\n",
    "        \n",
    "        ordinal_cols_mapping = [{\"col\": \"Crop\", \"mapping\": mapping}, ]\n",
    "        encoder = ce.OrdinalEncoder(cols = 'Crop', mapping = ordinal_cols_mapping, return_df = True)\n",
    "        return mapping, encoder\n",
    "    \n",
    "    \n",
    "    def estimator(self, crop, temp, humidity, rainfall, y_label):\n",
    "        X = self.df.drop(['Label_N', 'Label_P', 'Label_K'], axis=1)\n",
    "        y = self.df[y_label]\n",
    "        \n",
    "        self.X_train, self.X_test, self.y_train, self.y_test = train_test_split(X, y, test_size = 0.20, random_state = 42)\n",
    "        \n",
    "        mapping, encoder = self.cropMapper()\n",
    "        self.X_train = encoder.fit_transform(self.X_train)\n",
    "        self.X_test = encoder.transform(self.X_test)\n",
    "        \n",
    "        regressor = RandomForestRegressor(n_estimators = 50, random_state = 0)\n",
    "        regressor.fit(self.X_train, self.y_train)\n",
    "        \n",
    "        # y_pred = regressor.predict(self.X_test)\n",
    "        query = [mapping[crop.strip().lower()], temp, humidity, rainfall]\n",
    "        y_pred = regressor.predict([query])\n",
    "        return y_pred\n",
    "    \n",
    "    \n",
    "    def accuracyCalculator(self):\n",
    "        model = RandomForestRegressor(n_jobs=-1)\n",
    "        estimators = np.arange(10, 200, 10)\n",
    "        scores = []\n",
    "        for n in estimators:\n",
    "            model.set_params(n_estimators=n)\n",
    "            model.fit(self.X_train, self.y_train)\n",
    "            scores.append(model.score(self.X_test, self.y_test))\n",
    "        \n",
    "        scores_arr = [round(sc, 3) for sc in scores]\n",
    "        unique, counts = np.unique(scores_arr, return_counts = True)\n",
    "\n",
    "        max_count = max(counts)\n",
    "        accuracy = -1\n",
    "        for uni, count in zip(unique, counts):\n",
    "            # print(uni, count)\n",
    "            if count == max_count:\n",
    "                accuracy = uni\n",
    "\n",
    "        # print(\"Model accuracy: %.2f\" % (accuracy))\n",
    "        return accuracy"
   ]
  },
  {
   "cell_type": "code",
   "execution_count": 24,
   "metadata": {},
   "outputs": [
    {
     "name": "stdout",
     "output_type": "stream",
     "text": [
      "Label_N : 72.8\n"
     ]
    }
   ],
   "source": [
    "if __name__ == '__main__':\n",
    "    obj = NPKEstimator()\n",
    "    obj.renameCol()\n",
    "    # 'Label_N', 'Label_P', 'Label_K'\n",
    "    # rice,21.94766735,80.97384195,213.3560921,67,59,41\n",
    "    crop, temp, humidity, rainfall, y_label = 'rice',21.94766735,80.97384195,213.3560921,'Label_N'\n",
    "    res = obj.estimator(crop, temp, humidity, rainfall, y_label)\n",
    "    print(y_label, \":\", res[0])"
   ]
  },
  {
   "cell_type": "code",
   "execution_count": null,
   "metadata": {},
   "outputs": [],
   "source": []
  }
 ],
 "metadata": {
  "kernelspec": {
   "display_name": "Python 3 (ipykernel)",
   "language": "python",
   "name": "python3"
  },
  "language_info": {
   "codemirror_mode": {
    "name": "ipython",
    "version": 3
   },
   "file_extension": ".py",
   "mimetype": "text/x-python",
   "name": "python",
   "nbconvert_exporter": "python",
   "pygments_lexer": "ipython3",
   "version": "3.9.0"
  }
 },
 "nbformat": 4,
 "nbformat_minor": 4
}
